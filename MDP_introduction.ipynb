{
  "cells": [
    {
      "cell_type": "markdown",
      "metadata": {
        "id": "2nhVFL7kkzBH",
        "pycharm": {
          "name": "#%%\n"
        }
      },
      "source": [
        "# A coding introduction to the Markov Decision Process\n",
        "\n",
        "<br><br>\n",
        "\n",
        "In this notebook we will practice the concepts learned about control tasks and Markov decision processes. In particular, we will get familiar with a software library called OpenAI Gym that will provide us with a simple interface to these tasks.\n",
        "<br><br><br>\n",
        "<div style=\"text-align:center\">\n",
        "    <b>This notebook belongs to section 2 of the course \"Reinforcement Learning: beginner to master\".</b>\n",
        "    <br><br>\n",
        "    <a href=\"https://www.udemy.com\">Reinforcement Learning: beginner to master</a> (English)\n",
        "    <br>\n",
        "    <a href=\"https://www.udemy.com\">Reinforcement Learning: de principiante a maestro</a> (Spanish)\n",
        "</div>\n",
        "\n",
        "\n",
        "<br><br>\n"
      ]
    },
    {
      "cell_type": "code",
      "execution_count": 1,
      "metadata": {
        "cellView": "form",
        "id": "Klag2liexhB8"
      },
      "outputs": [],
      "source": [
        "# @title Setup code (not important) - Run this cell by pressing \"Shift + Enter\"\n",
        "\n",
        "from typing import Tuple, Dict, Optional, Iterable\n",
        "\n",
        "import numpy as np\n",
        "import matplotlib\n",
        "from matplotlib import animation\n",
        "\n",
        "from IPython.display import HTML\n",
        "\n",
        "import gym\n",
        "from gym import spaces\n",
        "from gym.error import DependencyNotInstalled\n",
        "\n",
        "import pygame\n",
        "from pygame import gfxdraw\n",
        "\n",
        "\n",
        "class Maze(gym.Env):\n",
        "\n",
        "    def __init__(self, exploring_starts: bool = False,\n",
        "                 shaped_rewards: bool = False, size: int = 5) -> None:\n",
        "        super().__init__()\n",
        "        self.exploring_starts = exploring_starts\n",
        "        self.shaped_rewards = shaped_rewards\n",
        "        self.state = (size - 1, size - 1)\n",
        "        self.goal = (size - 1, size - 1)\n",
        "        self.maze = self._create_maze(size=size)\n",
        "        self.distances = self._compute_distances(self.goal, self.maze)\n",
        "        self.action_space = spaces.Discrete(n=4)\n",
        "        self.action_space.action_meanings = {0: 'UP', 1: 'RIGHT', 2: 'DOWN', 3: \"LEFT\"}\n",
        "        self.observation_space = spaces.MultiDiscrete([size, size])\n",
        "\n",
        "        self.screen = None\n",
        "        self.agent_transform = None\n",
        "\n",
        "    def step(self, action: int) -> Tuple[Tuple[int, int], float, bool, Dict]:\n",
        "        reward = self.compute_reward(self.state, action)\n",
        "        self.state = self._get_next_state(self.state, action)\n",
        "        done = self.state == self.goal\n",
        "        info = {}\n",
        "        return self.state, reward, done, info\n",
        "\n",
        "    def reset(self) -> Tuple[int, int]:\n",
        "        if self.exploring_starts:\n",
        "            while self.state == self.goal:\n",
        "                self.state = tuple(self.observation_space.sample())\n",
        "        else:\n",
        "            self.state = (0, 0)\n",
        "        return self.state\n",
        "\n",
        "    def render(self, mode: str = 'human') -> Optional[np.ndarray]:\n",
        "        assert mode in ['human', 'rgb_array']\n",
        "\n",
        "        screen_size = 600\n",
        "        scale = screen_size / 5\n",
        "\n",
        "        if self.screen is None:\n",
        "            pygame.init()\n",
        "            self.screen = pygame.Surface((screen_size, screen_size))\n",
        "\n",
        "        surf = pygame.Surface((screen_size, screen_size))\n",
        "        surf.fill((22, 36, 71))\n",
        "\n",
        "\n",
        "        for row in range(5):\n",
        "            for col in range(5):\n",
        "\n",
        "                state = (row, col)\n",
        "                for next_state in [(row + 1, col), (row - 1, col), (row, col + 1), (row, col - 1)]:\n",
        "                    if next_state not in self.maze[state]:\n",
        "\n",
        "                        # Add the geometry of the edges and walls (i.e. the boundaries between\n",
        "                        # adjacent squares that are not connected).\n",
        "                        row_diff, col_diff = np.subtract(next_state, state)\n",
        "                        left = (col + (col_diff > 0)) * scale - 2 * (col_diff != 0)\n",
        "                        right = ((col + 1) - (col_diff < 0)) * scale + 2 * (col_diff != 0)\n",
        "                        top = (5 - (row + (row_diff > 0))) * scale - 2 * (row_diff != 0)\n",
        "                        bottom = (5 - ((row + 1) - (row_diff < 0))) * scale + 2 * (row_diff != 0)\n",
        "\n",
        "                        gfxdraw.filled_polygon(surf, [(left, bottom), (left, top), (right, top), (right, bottom)], (255, 255, 255))\n",
        "\n",
        "        # Add the geometry of the goal square to the viewer.\n",
        "        left, right, top, bottom = scale * 4 + 10, scale * 5 - 10, scale - 10, 10\n",
        "        gfxdraw.filled_polygon(surf, [(left, bottom), (left, top), (right, top), (right, bottom)], (40, 199, 172))\n",
        "\n",
        "        # Add the geometry of the agent to the viewer.\n",
        "        agent_row = int(screen_size - scale * (self.state[0] + .5))\n",
        "        agent_col = int(scale * (self.state[1] + .5))\n",
        "        gfxdraw.filled_circle(surf, agent_col, agent_row, int(scale * .6 / 2), (228, 63, 90))\n",
        "\n",
        "        surf = pygame.transform.flip(surf, False, True)\n",
        "        self.screen.blit(surf, (0, 0))\n",
        "\n",
        "        return np.transpose(\n",
        "                np.array(pygame.surfarray.pixels3d(self.screen)), axes=(1, 0, 2)\n",
        "            )\n",
        "\n",
        "    def close(self) -> None:\n",
        "        if self.screen is not None:\n",
        "            pygame.display.quit()\n",
        "            pygame.quit()\n",
        "            self.screen = None\n",
        "\n",
        "    def compute_reward(self, state: Tuple[int, int], action: int) -> float:\n",
        "        next_state = self._get_next_state(state, action)\n",
        "        if self.shaped_rewards:\n",
        "            return - (self.distances[next_state] / self.distances.max())\n",
        "        return - float(state != self.goal)\n",
        "\n",
        "    def simulate_step(self, state: Tuple[int, int], action: int):\n",
        "        reward = self.compute_reward(state, action)\n",
        "        next_state = self._get_next_state(state, action)\n",
        "        done = next_state == self.goal\n",
        "        info = {}\n",
        "        return next_state, reward, done, info\n",
        "\n",
        "    def _get_next_state(self, state: Tuple[int, int], action: int) -> Tuple[int, int]:\n",
        "        if action == 0:\n",
        "            next_state = (state[0] - 1, state[1])\n",
        "        elif action == 1:\n",
        "            next_state = (state[0], state[1] + 1)\n",
        "        elif action == 2:\n",
        "            next_state = (state[0] + 1, state[1])\n",
        "        elif action == 3:\n",
        "            next_state = (state[0], state[1] - 1)\n",
        "        else:\n",
        "            raise ValueError(\"Action value not supported:\", action)\n",
        "        if next_state in self.maze[state]:\n",
        "            return next_state\n",
        "        return state\n",
        "\n",
        "    @staticmethod\n",
        "    def _create_maze(size: int) -> Dict[Tuple[int, int], Iterable[Tuple[int, int]]]:\n",
        "        maze = {(row, col): [(row - 1, col), (row + 1, col), (row, col - 1), (row, col + 1)]\n",
        "                for row in range(size) for col in range(size)}\n",
        "\n",
        "        left_edges = [[(row, 0), (row, -1)] for row in range(size)]\n",
        "        right_edges = [[(row, size - 1), (row, size)] for row in range(size)]\n",
        "        upper_edges = [[(0, col), (-1, col)] for col in range(size)]\n",
        "        lower_edges = [[(size - 1, col), (size, col)] for col in range(size)]\n",
        "        walls = [\n",
        "            [(1, 0), (1, 1)], [(2, 0), (2, 1)], [(3, 0), (3, 1)],\n",
        "            [(1, 1), (1, 2)], [(2, 1), (2, 2)], [(3, 1), (3, 2)],\n",
        "            [(3, 1), (4, 1)], [(0, 2), (1, 2)], [(1, 2), (1, 3)],\n",
        "            [(2, 2), (3, 2)], [(2, 3), (3, 3)], [(2, 4), (3, 4)],\n",
        "            [(4, 2), (4, 3)], [(1, 3), (1, 4)], [(2, 3), (2, 4)],\n",
        "        ]\n",
        "\n",
        "        obstacles = upper_edges + lower_edges + left_edges + right_edges + walls\n",
        "\n",
        "        for src, dst in obstacles:\n",
        "            maze[src].remove(dst)\n",
        "\n",
        "            if dst in maze:\n",
        "                maze[dst].remove(src)\n",
        "\n",
        "        return maze\n",
        "\n",
        "    @staticmethod\n",
        "    def _compute_distances(goal: Tuple[int, int],\n",
        "                           maze: Dict[Tuple[int, int], Iterable[Tuple[int, int]]]) -> np.ndarray:\n",
        "        distances = np.full((5, 5), np.inf)\n",
        "        visited = set()\n",
        "        distances[goal] = 0.\n",
        "\n",
        "        while visited != set(maze):\n",
        "            sorted_dst = [(v // 5, v % 5) for v in distances.argsort(axis=None)]\n",
        "            closest = next(x for x in sorted_dst if x not in visited)\n",
        "            visited.add(closest)\n",
        "\n",
        "            for neighbour in maze[closest]:\n",
        "                distances[neighbour] = min(distances[neighbour], distances[closest] + 1)\n",
        "        return distances\n",
        "\n",
        "\n",
        "def display_video(frames):\n",
        "    # Copied from: https://colab.research.google.com/github/deepmind/dm_control/blob/master/tutorial.ipynb\n",
        "    orig_backend = matplotlib.get_backend()\n",
        "    matplotlib.use('Agg')\n",
        "    fig, ax = plt.subplots(1, 1, figsize=(5, 5))\n",
        "    matplotlib.use(orig_backend)\n",
        "    ax.set_axis_off()\n",
        "    ax.set_aspect('equal')\n",
        "    ax.set_position([0, 0, 1, 1])\n",
        "    im = ax.imshow(frames[0])\n",
        "    def update(frame):\n",
        "        im.set_data(frame)\n",
        "        return [im]\n",
        "    anim = animation.FuncAnimation(fig=fig, func=update, frames=frames,\n",
        "                                    interval=50, blit=True, repeat=False)\n",
        "    return HTML(anim.to_html5_video())\n"
      ]
    },
    {
      "cell_type": "markdown",
      "metadata": {
        "id": "ibSRyE_2kzBL"
      },
      "source": [
        "## Quick view of the Gym library:\n",
        "<br/>\n",
        "<br/>\n",
        "\n",
        "Gym is a library for reinforcement learning research. It provides us with a simple interface to a large number of tasks, including\n",
        "\n",
        "- Classic control tasks (CartPole, Pendulum, MountainCar, etc)\n",
        "- Classic video games (Space Invaders, Breakout, Pong, etc)\n",
        "- Continuous control tasks\n",
        "- Robotic arm manipulation\n",
        "\n",
        "In this section we are going to get familiar with the five methods that we'll use while solving a control\n",
        "task.\n",
        "\n",
        "\n",
        "<br/>\n",
        "<br/>\n",
        "\n",
        "\n",
        "![title](https://github.com/escape-velocity-labs/beginner_master_rl/blob/main/img/mdp_diagram.svg?raw=1)\n",
        "\n",
        "###### Source: https://upload.wikimedia.org/wikipedia/commons/1/1b/Reinforcement_learning_diagram.svg"
      ]
    },
    {
      "cell_type": "markdown",
      "metadata": {
        "id": "DXOjbZOakzBL"
      },
      "source": [
        "##### Making the environment: Maze()\n",
        "\n",
        "To create an environment, just pass a string with its name to the gym.make method. If the environment exists, the method returns an instance of the gym.Env class, which represents the environment of the task we are going to solve."
      ]
    },
    {
      "cell_type": "code",
      "execution_count": 2,
      "metadata": {
        "id": "3MaQzsX8kzBK",
        "pycharm": {
          "name": "#%%\n"
        }
      },
      "outputs": [],
      "source": [
        "import gym\n",
        "import numpy as np\n",
        "from IPython import display\n",
        "from matplotlib import pyplot as plt\n",
        "\n",
        "%matplotlib inline"
      ]
    },
    {
      "cell_type": "code",
      "execution_count": 3,
      "metadata": {
        "id": "OzOU7ahAkzBL"
      },
      "outputs": [],
      "source": [
        "env = Maze()"
      ]
    },
    {
      "cell_type": "markdown",
      "metadata": {
        "id": "Y9Zf8RM9kzBL"
      },
      "source": [
        "###### env.reset()\n",
        "\n",
        "This method places the environment in its initial state to  and returns it so that the agent can observe it.\n"
      ]
    },
    {
      "cell_type": "code",
      "execution_count": 4,
      "metadata": {
        "id": "L0ZTYVoHkzBM"
      },
      "outputs": [
        {
          "name": "stdout",
          "output_type": "stream",
          "text": [
            "The new episode will start in state: (0, 0)\n"
          ]
        }
      ],
      "source": [
        "initial_state = env.reset()\n",
        "print(f\"The new episode will start in state: {initial_state}\")"
      ]
    },
    {
      "cell_type": "markdown",
      "metadata": {
        "id": "ipPJDHubkzBM"
      },
      "source": [
        "##### env.render()\n",
        "\n",
        "This method generates an image that represents the current state of the environment, in the form of a np.ndarray."
      ]
    },
    {
      "cell_type": "code",
      "execution_count": 5,
      "metadata": {
        "id": "ZNeffQeYkzBM",
        "scrolled": true
      },
      "outputs": [
        {
          "data": {
            "text/plain": [
              "<matplotlib.image.AxesImage at 0x25661499330>"
            ]
          },
          "execution_count": 5,
          "metadata": {},
          "output_type": "execute_result"
        },
        {
          "data": {
            "image/png": "[encoded data removed]",
            "text/plain": [
              "<Figure size 640x480 with 1 Axes>"
            ]
          },
          "metadata": {},
          "output_type": "display_data"
        }
      ],
      "source": [
        "frame = env.render(mode='rgb_array')\n",
        "plt.axis('off')\n",
        "plt.title(f\"State: {initial_state}\")\n",
        "plt.imshow(frame)"
      ]
    },
    {
      "cell_type": "markdown",
      "metadata": {
        "id": "9-nfuN8YkzBM"
      },
      "source": [
        "##### env.step()\n",
        "\n",
        "This method applies the action selected by the agent in the environment, to modify it. In response, the environment returns a tuple of four objects:\n",
        "\n",
        "- The next state\n",
        "- The reward obtained\n",
        "- (bool) if the task has been completed\n",
        "- any other relevant information in a python dictionary"
      ]
    },
    {
      "cell_type": "code",
      "execution_count": null,
      "metadata": {
        "id": "Z4OSEY9qkzBM"
      },
      "outputs": [],
      "source": [
        "action = 2\n",
        "next_state, reward, done, info = env.step(action)\n",
        "print(f\"After moving down 1 row, the agent is in state: {next_state}\")\n",
        "print(f\"After moving down 1 row, we got a reward of: {reward}\")\n",
        "print(\"After moving down 1 row, the task is\", \"\" if done else \"not\", \"finished\")"
      ]
    },
    {
      "cell_type": "markdown",
      "metadata": {
        "id": "plqDtRxykzBM"
      },
      "source": [
        "###### Render the new state"
      ]
    },
    {
      "cell_type": "code",
      "execution_count": null,
      "metadata": {
        "id": "peCRUOJOkzBM"
      },
      "outputs": [],
      "source": [
        "frame = env.render(mode='rgb_array')\n",
        "plt.axis('off')\n",
        "plt.title(f\"State: {next_state}\")\n",
        "plt.imshow(frame)"
      ]
    },
    {
      "cell_type": "markdown",
      "metadata": {
        "id": "0vjG25uekzBM"
      },
      "source": [
        "##### env.close()\n",
        "\n",
        "It completes the task and closes the environment, releasing the associated resources."
      ]
    },
    {
      "cell_type": "code",
      "execution_count": null,
      "metadata": {
        "id": "F7GJc38UkzBN"
      },
      "outputs": [],
      "source": [
        "env.close()"
      ]
    },
    {
      "cell_type": "markdown",
      "metadata": {
        "id": "1U8GvYvzkzBN"
      },
      "source": [
        "## Maze environment: Find the exit.\n",
        "\n",
        "\n",
        "In this section we are going to familiarize ourselves with the environment that we'll use in the lessons 2 (dynamic programming), 3 (Monte Carlo methods) and 4 (temporal difference methods). This environment is perfect for learning the basics of Reinforcement Learning because:\n",
        "\n",
        "- It has few states (25)\n",
        "- Transitions between states are deterministic ($p(s', r| s, a) = 1$)\n",
        "- All rewards are the same (-1) until the episode concludes. Thus facilitating the study of the value and action-value functions\n",
        "\n",
        "Through this environment, we are going to review the concepts seen in lesson 1 (The Markov decision process):\n",
        "\n",
        "- States and state space\n",
        "- Actions and action space\n",
        "- Trajectories and episodes\n",
        "- Rewards and returns\n",
        "- Policy\n",
        "\n",
        "\n",
        "The environment is a maze of 5x5 cells, in which the goal of the agent is to find the exit, located in the lower right corner, in the cell (4,4). In the image, the exit is colored in light green.\n",
        "\n",
        "To reach the exit, the agent can take four different actions: move up, move down, move left and move right."
      ]
    },
    {
      "cell_type": "markdown",
      "metadata": {
        "id": "3F11h1aHkzBN"
      },
      "source": [
        "###### Create the environment."
      ]
    },
    {
      "cell_type": "code",
      "execution_count": null,
      "metadata": {
        "id": "OpfNnSqWkzBN"
      },
      "outputs": [],
      "source": [
        "env = Maze()"
      ]
    },
    {
      "cell_type": "markdown",
      "metadata": {
        "id": "HT_Ik1H5kzBN"
      },
      "source": [
        "##### States and state space\n",
        "\n",
        "The states consist of a tuple of two integers, both in the range [0, 4], representing the row and column in which the agent is currently located:\n",
        "<br>\n",
        "<br>\n",
        "\n",
        "\\begin{equation}\n",
        "    s = (row, column) \\;\\\\\n",
        "    row, column \\in \\{0,1,2,3, 4\\}\n",
        "\\end{equation}\n",
        "<br>\n",
        "<br>\n",
        "The state space (set of all possible states in the task) has 25 elements (all possible combinations of rows and columns):\n",
        "\n",
        "\n",
        "\\begin{equation}\n",
        "    Rows \\times Columns \\;\\\\\n",
        "    S = \\{(0, 0), (0, 1), (1, 0), ...\\}\n",
        "\\end{equation}\n",
        "\n",
        "Information about the state space is stored in the env.observation_space property. In this environment, it is of MultiDiscrete([5 5]) type, which means that it consists of two elements (rows and columns), each with 5 different values."
      ]
    },
    {
      "cell_type": "code",
      "execution_count": null,
      "metadata": {
        "id": "z-5Mnmm0kzBN"
      },
      "outputs": [],
      "source": [
        "print(f\"For example, the initial state is: {env.reset()}\")\n",
        "print(f\"The space state is of type: {env.observation_space}\")"
      ]
    },
    {
      "cell_type": "markdown",
      "metadata": {
        "id": "Id_veMkskzBN"
      },
      "source": [
        "##### Actions and action space\n",
        "\n",
        "In this environment, there are four different actions and they are represented by integers:\n",
        "\n",
        "\\begin{equation}\n",
        "a \\in \\{0, 1, 2, 3\\}\n",
        "\\end{equation}\n",
        "\n",
        "- 0 -> move up\n",
        "- 1 -> move right\n",
        "- 2 -> move down\n",
        "- 3 -> move left\n",
        "\n",
        "To execute an action, simply pass it as an argument to the env.step method. Information about the action space is stored in the env.action_space property which is of Discrete(4) class. This means that in this case it only consists of an element in the range [0,4), unlike the state space seen above.\n"
      ]
    },
    {
      "cell_type": "code",
      "execution_count": null,
      "metadata": {
        "id": "KC8iHy6lkzBN"
      },
      "outputs": [],
      "source": [
        "print(f\"An example of a valid action is: {env.action_space.sample()}\")\n",
        "print(f\"The action state is of type: {env.action_space}\")"
      ]
    },
    {
      "cell_type": "markdown",
      "metadata": {
        "id": "dribhLtQkzBO"
      },
      "source": [
        "##### Trajectories and episodes\n",
        "\n",
        "A trajectory is the sequence generated by moving from one state to another (both arbitrary)\n",
        "\n",
        "\\begin{equation}\n",
        "  \\tau = S_0, A_0, R_1, S_1, A_1, ... R_N, S_N,\n",
        "\\end{equation}\n",
        "\n",
        "Let's generate a trajectory of 3 moves in code:"
      ]
    },
    {
      "cell_type": "code",
      "execution_count": null,
      "metadata": {
        "id": "tVqrUPk5kzBO"
      },
      "outputs": [],
      "source": [
        "env = Maze()\n",
        "state = env.reset()\n",
        "trajectory = []\n",
        "for _ in range(3):\n",
        "    action = env.action_space.sample()\n",
        "    next_state, reward, done, extra_info = env.step(action)\n",
        "    trajectory.append([state, action, reward, done, next_state])\n",
        "    state = next_state\n",
        "env.close()\n",
        "\n",
        "print(f\"Congrats! You just generated your first trajectory:\\n{trajectory}\")"
      ]
    },
    {
      "cell_type": "markdown",
      "metadata": {
        "id": "rJzFOtbOkzBO"
      },
      "source": [
        "An episode is a trajectory that goes from the initial state of the process to the final one:\n",
        "\n",
        "\\begin{equation}\n",
        "  \\tau = S_0, A_0, R_1, S_1, A_1, ... R_T, S_T,\n",
        "\\end{equation}\n",
        "where T is the terminal state.\n",
        "\n",
        "Let's generate a whole episode in code:"
      ]
    },
    {
      "cell_type": "code",
      "execution_count": null,
      "metadata": {
        "id": "Qeylme63kzBO"
      },
      "outputs": [],
      "source": [
        "env = Maze()\n",
        "state = env.reset()\n",
        "episode = []\n",
        "done = False\n",
        "while not done:\n",
        "    action = env.action_space.sample()\n",
        "    next_state, reward, done, extra_info = env.step(action)\n",
        "    episode.append([state, action, reward, done, next_state])\n",
        "    state = next_state\n",
        "env.close()\n",
        "\n",
        "print(f\"Congrats! You just generated your first episode:\\n{episode}\")"
      ]
    },
    {
      "cell_type": "markdown",
      "metadata": {
        "id": "nDpBTu8rkzBO"
      },
      "source": [
        "##### Rewards and returns\n",
        "\n",
        "A reward is numerical feedback that the environment generates when the agent takes an action *a* in a state *s*:\n",
        "\n",
        "\\begin{equation}\n",
        "    r = r(s, a)\n",
        "\\end{equation}\n",
        "\n",
        "Let's generate a reward from the environment:"
      ]
    },
    {
      "cell_type": "code",
      "execution_count": null,
      "metadata": {
        "id": "4nv4JmpekzBO"
      },
      "outputs": [],
      "source": [
        "env = Maze()\n",
        "state = env.reset()\n",
        "action = env.action_space.sample()\n",
        "_, reward, _, _ = env.step(action)\n",
        "print(f\"We achieved a reward of {reward} by taking action {action} in state {state}\")"
      ]
    },
    {
      "cell_type": "markdown",
      "metadata": {
        "id": "n3cUQup0kzBO"
      },
      "source": [
        "The return associated with a moment in time *t* is the sum (discounted) of rewards that the agent obtains from that moment. We are going to calculate $G_0$, that is, the return to the beginning of the episode:\n",
        "\n",
        "\\begin{equation}\n",
        "    G_0 = R_1 + \\gamma R_2 + \\gamma^2 R_3 + ... + \\gamma^{T-1} R_T\n",
        "\\end{equation}\n",
        "\n",
        "\n",
        "\n",
        "Let's assume that the discount factor $\\gamma = 0.99$:\n"
      ]
    },
    {
      "cell_type": "code",
      "execution_count": null,
      "metadata": {
        "id": "sVHUd8lAkzBP"
      },
      "outputs": [],
      "source": [
        "env = Maze()\n",
        "state = env.reset()\n",
        "done = False\n",
        "gamma = 0.99\n",
        "G_0 = 0\n",
        "t = 0\n",
        "while not done:\n",
        "    action = env.action_space.sample()\n",
        "    _, reward, done, _ = env.step(action)\n",
        "    G_0 += gamma ** t * reward\n",
        "    t += 1\n",
        "env.close()\n",
        "\n",
        "print(\n",
        "    f\"\"\"It took us {t} moves to find the exit,\n",
        "    and each reward r(s,a)=-1, so the return amounts to {G_0}\"\"\")"
      ]
    },
    {
      "cell_type": "markdown",
      "metadata": {
        "id": "k_-SzsKqkzBP"
      },
      "source": [
        "##### Policy\n",
        "\n",
        "A policy is a function $\\pi(a|s) \\in [0, 1]$ that gives the probability of an action given the current state. The function takes the state and action as inputs and returns a float in [0,1].\n",
        "\n",
        "Since in practice we will need to compute the probabilities of all actions, we will represent the policy as a function that takes the state as an argument and returns the probabilities associated with each of the actions. Thus, if the probabilities are:\n",
        "\n",
        "[0.5, 0.3, 0.1]\n",
        "\n",
        "we will understand that the action with index 0 has a 50% probability of being chosen, the one with index 1 has 30% and the one with index 2 has 10%.\n",
        "\n",
        "Let's code a policy function that chooses actions randomly:"
      ]
    },
    {
      "cell_type": "code",
      "execution_count": null,
      "metadata": {
        "id": "ma5JmoBpkzBP"
      },
      "outputs": [],
      "source": [
        "def random_policy(state):\n",
        "    return np.array([0.25] * 4)"
      ]
    },
    {
      "cell_type": "markdown",
      "metadata": {
        "id": "OFo4dB1XkzBP"
      },
      "source": [
        "## Playing an episode with our random policy"
      ]
    },
    {
      "cell_type": "markdown",
      "metadata": {
        "id": "cyKI_99lkzBP"
      },
      "source": [
        "###### Create and reset the environment"
      ]
    },
    {
      "cell_type": "code",
      "execution_count": null,
      "metadata": {
        "id": "fyvHJbbGkzBP"
      },
      "outputs": [],
      "source": [
        "env = Maze()\n",
        "state = env.reset()"
      ]
    },
    {
      "cell_type": "markdown",
      "metadata": {
        "id": "FMwqTWLvkzBP"
      },
      "source": [
        "Compute $p(a|s) \\ \\forall a \\in \\{0, 1, 2, 3\\}$"
      ]
    },
    {
      "cell_type": "code",
      "execution_count": null,
      "metadata": {
        "id": "6FuAJ8cSkzBP"
      },
      "outputs": [],
      "source": [
        "action_probabilities = random_policy(state)"
      ]
    },
    {
      "cell_type": "code",
      "execution_count": null,
      "metadata": {
        "id": "X1E0GbytkzBP"
      },
      "outputs": [],
      "source": [
        "objects = ('Up', 'Right', 'Down', 'Left')\n",
        "y_pos = np.arange(len(objects))\n",
        "\n",
        "plt.bar(y_pos, action_probabilities, alpha=0.5)\n",
        "plt.xticks(y_pos, objects)\n",
        "plt.ylabel('P(a|s)')\n",
        "plt.title('Random Policy')\n",
        "plt.tight_layout()\n",
        "\n",
        "plt.show()"
      ]
    },
    {
      "cell_type": "markdown",
      "metadata": {
        "id": "0qoQVv-wkzBQ"
      },
      "source": [
        "##### Use the policy to play an episode (This cell has been updated, read below)\n",
        "\n",
        "\n",
        "Dear student, to keep the course content up to date, the code for displaying our policy facing the environment has been updated.\n",
        "This function works the same way as described in the video, the only difference\n",
        "is that now we save a screenshot of every state in the `frames` variable and then, we use the `display_video` function to turn those images into a video.\n",
        "\n",
        "<br>\n",
        "\n",
        "In any case, this is convenience code that is completely unrelated to Reinforcement Learning, so in the following notebooks, I'll just make it available to you in the first code cell (which you can just run and ignore, like you did this time). That way, you'll be able to focus on the important part.\n",
        "\n",
        "Cheers!\n",
        "\n",
        "\n",
        "\n"
      ]
    },
    {
      "cell_type": "code",
      "execution_count": null,
      "metadata": {
        "id": "c54pyJpc2bq1"
      },
      "outputs": [],
      "source": [
        "def test_agent(environment, policy):\n",
        "    frames = []\n",
        "    state = env.reset()\n",
        "    done = False\n",
        "    frames.append(env.render(mode=\"rgb_array\"))\n",
        "\n",
        "    while not done:\n",
        "        action_probs = policy(state)\n",
        "        action = np.random.choice(range(4), 1, p=action_probs)\n",
        "        next_state, reward, done, extra_info = env.step(action)\n",
        "        img = env.render(mode=\"rgb_array\")\n",
        "        frames.append(img)\n",
        "        state = next_state\n",
        "\n",
        "    return display_video(frames)\n",
        "\n",
        "\n",
        "test_agent(env, random_policy)"
      ]
    },
    {
      "cell_type": "code",
      "execution_count": null,
      "metadata": {
        "id": "2Gze8vWTGYnk"
      },
      "outputs": [],
      "source": []
    }
  ],
  "metadata": {
    "colab": {
      "provenance": []
    },
    "kernelspec": {
      "display_name": "venv-rl-udemy",
      "language": "python",
      "name": "python3"
    },
    "language_info": {
      "codemirror_mode": {
        "name": "ipython",
        "version": 3
      },
      "file_extension": ".py",
      "mimetype": "text/x-python",
      "name": "python",
      "nbconvert_exporter": "python",
      "pygments_lexer": "ipython3",
      "version": "3.10.8"
    }
  },
  "nbformat": 4,
  "nbformat_minor": 0
}
