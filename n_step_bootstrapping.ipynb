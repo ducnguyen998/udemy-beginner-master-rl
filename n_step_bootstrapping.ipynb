{
 "cells": [
  {
   "cell_type": "markdown",
   "metadata": {},
   "source": [
    "# N-step bootstrapping"
   ]
  },
  {
   "cell_type": "markdown",
   "metadata": {},
   "source": [
    "#### SARSA update rule (1-step bootstrapping)\n",
    "\n",
    "$\n",
    "Q(S_t, A_t) \\rightarrow Q(S_t, A_t) + \\alpha [R_{t+1} + \\gamma Q(S_{t+1}, A_{t+1} - Q(S_t, A_t))]\n",
    "$"
   ]
  },
  {
   "cell_type": "markdown",
   "metadata": {},
   "source": [
    "#### 2-step bootstrapping\n",
    "\n",
    "$\n",
    "G_{t:t+2} = R_{t+1} + \\gamma R_{t+2} + \\gamma^2 Q(S_{t+2}, A_{t+2})\n",
    "$"
   ]
  },
  {
   "cell_type": "markdown",
   "metadata": {},
   "source": [
    "#### 3-step bootstrapping\n",
    "\n",
    "$\n",
    "G_{t:t+3} = R_{t+1} + \\gamma R_{t+2} + \\gamma^2 R_{t+3} + \\gamma^3 Q(S_{t+3}, A_{t+3})\n",
    "$"
   ]
  },
  {
   "cell_type": "markdown",
   "metadata": {},
   "source": [
    "#### N-step bootstrapping\n",
    "\n",
    "$\n",
    "G_{t:t+n} = R_{t+1} + \\gamma R_{t+2} + ... +\\gamma^{n-1} R_{t+n} + \\gamma^n Q(S_{t+n}, A_{t+n})\n",
    "$"
   ]
  },
  {
   "cell_type": "markdown",
   "metadata": {},
   "source": [
    "### N-Step bootstrapping algorithm\n",
    "\n",
    "$\n",
    "Q(S_t, A_t) \\leftarrow Q(S_t, A_t) + \\alpha [G_{t:t+n} - Q(S_t, A_t)]\n",
    "$"
   ]
  },
  {
   "cell_type": "markdown",
   "metadata": {},
   "source": [
    "# N-step Temporal Differene Methods"
   ]
  },
  {
   "cell_type": "markdown",
   "metadata": {},
   "source": [
    "#### SARSA\n",
    "\n",
    "$\n",
    "G_{t:t+1} = R_{t+1} + \\gamma Q(S_{t+1}, A_{t+1})\n",
    "$\n",
    "\n",
    "Update rule:\n",
    "\n",
    "$\n",
    "Q(S_t, A_t) \\rightarrow Q(S_t, A_t) + \\alpha [G_{t:t+1} - Q(S_t, A_t)]\n",
    "$\n",
    "\n",
    "\n",
    "#### N-Step SARSA\n",
    "\n",
    "$\n",
    "G_{t:t+n} = R_{t+1} + \\gamma R_{t+2} + ... + \\gamma^{n-1} R_{t+n} + \\gamma^n Q(S_{t+n}, A_{t+n})\n",
    "$\n",
    "\n",
    "Update rule:\n",
    "\n",
    "$\n",
    "Q(S_t, A_t) \\rightarrow Q(S_t, A_t) + \\alpha [G_{t:t+n} - Q(S_t, A_t)]\n",
    "$"
   ]
  },
  {
   "cell_type": "markdown",
   "metadata": {},
   "source": [
    "### Monte Carlo \n",
    "\n",
    "$\n",
    "G_{t:t+n} = G = R_{t+1} + \\gamma R_{t+2} + ... + \\gamma^{n-1} R_{t+n}\n",
    "$\n",
    "\n",
    "Update rule:\n",
    "\n",
    "$\n",
    "Q(S_t, A_t) \\rightarrow Q(S_t, A_t) + \\alpha [G - Q(S_t, A_t)]\n",
    "$"
   ]
  },
  {
   "cell_type": "markdown",
   "metadata": {},
   "source": []
  }
 ],
 "metadata": {
  "kernelspec": {
   "display_name": "venv-rl-udemy",
   "language": "python",
   "name": "python3"
  },
  "language_info": {
   "codemirror_mode": {
    "name": "ipython",
    "version": 3
   },
   "file_extension": ".py",
   "mimetype": "text/x-python",
   "name": "python",
   "nbconvert_exporter": "python",
   "pygments_lexer": "ipython3",
   "version": "3.10.8"
  }
 },
 "nbformat": 4,
 "nbformat_minor": 2
}
